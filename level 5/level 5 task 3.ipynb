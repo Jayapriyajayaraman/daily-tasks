{
 "cells": [
  {
   "cell_type": "code",
   "execution_count": 4,
   "id": "72f52cb1-dbbf-46c4-9179-76960344a0cc",
   "metadata": {},
   "outputs": [
    {
     "name": "stdout",
     "output_type": "stream",
     "text": [
      "Defaulting to user installation because normal site-packages is not writeable\n",
      "Requirement already satisfied: python-dotenv in c:\\programdata\\anaconda3\\lib\\site-packages (0.21.0)\n",
      "Requirement already satisfied: requests in c:\\programdata\\anaconda3\\lib\\site-packages (2.32.3)\n",
      "Requirement already satisfied: charset-normalizer<4,>=2 in c:\\programdata\\anaconda3\\lib\\site-packages (from requests) (3.3.2)\n",
      "Requirement already satisfied: idna<4,>=2.5 in c:\\programdata\\anaconda3\\lib\\site-packages (from requests) (3.7)\n",
      "Requirement already satisfied: urllib3<3,>=1.21.1 in c:\\programdata\\anaconda3\\lib\\site-packages (from requests) (2.2.3)\n",
      "Requirement already satisfied: certifi>=2017.4.17 in c:\\programdata\\anaconda3\\lib\\site-packages (from requests) (2024.8.30)\n"
     ]
    }
   ],
   "source": [
    "!pip install python-dotenv requests"
   ]
  },
  {
   "cell_type": "code",
   "execution_count": null,
   "id": "4cca72b9-8aba-4128-a578-004dbfe7b95d",
   "metadata": {},
   "outputs": [],
   "source": [
    "API_KEY =\"your.api.key\" \n"
   ]
  },
  {
   "cell_type": "code",
   "execution_count": 10,
   "id": "5cfbe27c-d61f-4371-ad3a-acd68a274eff",
   "metadata": {},
   "outputs": [
    {
     "name": "stdout",
     "output_type": "stream",
     "text": [
      "✅ API Request Successful!\n"
     ]
    }
   ],
   "source": [
    "import requests\n",
    "API_KEY = \"28530e33c30c9db9fc583603e7e44221\"  \n",
    "CITY = \"New York\"  \n",
    "url = f\"http://api.openweathermap.org/data/2.5/forecast?q={CITY}&appid={API_KEY}&units=metric\"\n",
    "response = requests.get(url)\n",
    "if response.status_code == 200:\n",
    "    weather_data = response.json()\n",
    "    print(\"✅ API Request Successful!\")\n",
    "else:\n",
    "    print(\"❌ Error fetching data:\", response.json()) "
   ]
  },
  {
   "cell_type": "code",
   "execution_count": 11,
   "id": "eb79fda9-7e9e-4587-b97a-650bb044b46f",
   "metadata": {},
   "outputs": [
    {
     "name": "stdout",
     "output_type": "stream",
     "text": [
      "                  Date  Temperature (°C)           Weather\n",
      "0  2025-03-19 15:00:00              8.71         clear sky\n",
      "1  2025-03-19 18:00:00             10.90         clear sky\n",
      "2  2025-03-19 21:00:00             11.64  scattered clouds\n",
      "3  2025-03-20 00:00:00              9.11     broken clouds\n",
      "4  2025-03-20 03:00:00              7.57   overcast clouds\n"
     ]
    }
   ],
   "source": [
    "import pandas as pd\n",
    "if response.status_code == 200:\n",
    "    forecast_list = weather_data[\"list\"]\n",
    "    forecast_data = [\n",
    "        {\n",
    "            \"Date\": entry[\"dt_txt\"],\n",
    "            \"Temperature (°C)\": entry[\"main\"][\"temp\"],\n",
    "            \"Weather\": entry[\"weather\"][0][\"description\"]\n",
    "        }\n",
    "        for entry in forecast_list\n",
    "    ]\n",
    "\n",
    "\n",
    "    df = pd.DataFrame(forecast_data)\n",
    "    print(df.head()) "
   ]
  },
  {
   "cell_type": "code",
   "execution_count": null,
   "id": "87d08609-9208-4e21-ba87-9345aadd8f66",
   "metadata": {},
   "outputs": [],
   "source": []
  }
 ],
 "metadata": {
  "kernelspec": {
   "display_name": "Python 3 (ipykernel)",
   "language": "python",
   "name": "python3"
  },
  "language_info": {
   "codemirror_mode": {
    "name": "ipython",
    "version": 3
   },
   "file_extension": ".py",
   "mimetype": "text/x-python",
   "name": "python",
   "nbconvert_exporter": "python",
   "pygments_lexer": "ipython3",
   "version": "3.12.7"
  }
 },
 "nbformat": 4,
 "nbformat_minor": 5
}
