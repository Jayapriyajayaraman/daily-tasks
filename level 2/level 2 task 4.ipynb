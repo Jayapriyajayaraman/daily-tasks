{
 "cells": [
  {
   "cell_type": "code",
   "execution_count": 3,
   "id": "bea7455a-fecc-4594-a3f3-c551323dd2fa",
   "metadata": {},
   "outputs": [
    {
     "name": "stdout",
     "output_type": "stream",
     "text": [
      "Feature Engineering Completed. All feature columns cleaned and ready!\n",
      "\n",
      "   Survived  Pclass  Sex   Age  SibSp  Parch     Fare  Embarked_Q  Embarked_S  \\\n",
      "0         0       3    1  34.5      0      0   7.8292        True       False   \n",
      "1         1       3    0  47.0      1      0   7.0000       False        True   \n",
      "2         0       2    1  62.0      0      0   9.6875        True       False   \n",
      "3         0       3    1  27.0      0      0   8.6625       False        True   \n",
      "4         1       3    0  22.0      1      1  12.2875       False        True   \n",
      "\n",
      "   FamilySize Title  \n",
      "0           1    Mr  \n",
      "1           2   Mrs  \n",
      "2           1    Mr  \n",
      "3           1    Mr  \n",
      "4           3   Mrs  \n"
     ]
    }
   ],
   "source": [
    "import pandas as pd\n",
    "import re  # Import regex module for safer pattern matching\n",
    "\n",
    "# Load the Titanic dataset\n",
    "titanic_file_path = \"titanic_dataset.csv\"  # Ensure this file is in your working directory\n",
    "df = pd.read_csv(titanic_file_path)\n",
    "\n",
    "# Function to clean and engineer features\n",
    "def clean_and_engineer_features(data):\n",
    "    data = data.copy()  # Avoids SettingWithCopyWarning\n",
    "    \n",
    "    # Fill missing 'Age' with median\n",
    "    data[\"Age\"] = data[\"Age\"].fillna(data[\"Age\"].median())\n",
    "    \n",
    "    # Fill missing 'Embarked' with the most common value\n",
    "    data[\"Embarked\"] = data[\"Embarked\"].fillna(data[\"Embarked\"].mode()[0])\n",
    "    \n",
    "    # Fill missing 'Fare' with the median\n",
    "    data[\"Fare\"] = data[\"Fare\"].fillna(data[\"Fare\"].median())\n",
    "    \n",
    "    # Drop 'Cabin' column due to too many missing values\n",
    "    data = data.drop(columns=[\"Cabin\"], errors='ignore')\n",
    "    \n",
    "    # Convert 'Sex' to numerical (Male=1, Female=0)\n",
    "    data[\"Sex\"] = data[\"Sex\"].map({\"male\": 1, \"female\": 0})\n",
    "    \n",
    "    # Convert 'Embarked' to numerical (One-Hot Encoding)\n",
    "    data = pd.get_dummies(data, columns=[\"Embarked\"], drop_first=True)\n",
    "    \n",
    "    # Create a new feature: Family Size (SibSp + Parch + 1)\n",
    "    data[\"FamilySize\"] = data[\"SibSp\"] + data[\"Parch\"] + 1\n",
    "    \n",
    "    # Create a new feature: Title extracted from Name (Fixed regex issue)\n",
    "    data[\"Title\"] = data[\"Name\"].apply(lambda x: re.search(r' ([A-Za-z]+)\\.', x).group(1) if re.search(r' ([A-Za-z]+)\\.', x) else \"Other\")\n",
    "    \n",
    "    common_titles = [\"Mr\", \"Miss\", \"Mrs\", \"Master\"]\n",
    "    data[\"Title\"] = data[\"Title\"].apply(lambda x: x if x in common_titles else \"Other\")\n",
    "    \n",
    "    # Drop unnecessary columns\n",
    "    data = data.drop(columns=[\"Name\", \"Ticket\", \"PassengerId\"], errors='ignore')\n",
    "    \n",
    "    return data\n",
    "\n",
    "# Apply feature engineering\n",
    "df = clean_and_engineer_features(df)\n",
    "\n",
    "# Display cleaned dataset print statement\n",
    "print(\"Feature Engineering Completed. All feature columns cleaned and ready!\\n\")\n",
    "print(df.head())\n"
   ]
  },
  {
   "cell_type": "code",
   "execution_count": null,
   "id": "d594d863-69e7-41bc-813f-03c46021eac9",
   "metadata": {},
   "outputs": [],
   "source": []
  }
 ],
 "metadata": {
  "kernelspec": {
   "display_name": "Python 3 (ipykernel)",
   "language": "python",
   "name": "python3"
  },
  "language_info": {
   "codemirror_mode": {
    "name": "ipython",
    "version": 3
   },
   "file_extension": ".py",
   "mimetype": "text/x-python",
   "name": "python",
   "nbconvert_exporter": "python",
   "pygments_lexer": "ipython3",
   "version": "3.12.7"
  }
 },
 "nbformat": 4,
 "nbformat_minor": 5
}
