{
 "cells": [
  {
   "cell_type": "code",
   "execution_count": 2,
   "id": "0ed3b078-e0b2-4bca-922c-cd8968a32d97",
   "metadata": {},
   "outputs": [],
   "source": [
    "import pandas as pd\n",
    "import re  \n",
    "def clean_and_engineer_features(data):\n",
    "    data = data.copy()  \n",
    "    data[\"Age\"] = data[\"Age\"].fillna(data[\"Age\"].median())\n",
    "    data[\"Embarked\"] = data[\"Embarked\"].fillna(data[\"Embarked\"].mode()[0])\n",
    "    data[\"Fare\"] = data[\"Fare\"].fillna(data[\"Fare\"].median())\n",
    "    data = data.drop(columns=[\"Cabin\"], errors='ignore')\n",
    "    data[\"Sex\"] = data[\"Sex\"].map({\"male\": 1, \"female\": 0})\n",
    "    data = pd.get_dummies(data, columns=[\"Embarked\"], drop_first=True)\n",
    "    data[\"FamilySize\"] = data[\"SibSp\"] + data[\"Parch\"] + 1\n",
    "    data[\"Title\"] = data[\"Name\"].apply(lambda x: re.search(r' ([A-Za-z]+)\\.', x).group(1) if re.search(r' ([A-Za-z]+)\\.', x) else \"Other\")\n",
    "    common_titles = [\"Mr\", \"Miss\", \"Mrs\", \"Master\"]\n",
    "    data[\"Title\"] = data[\"Title\"].apply(lambda x: x if x in common_titles else \"Other\")\n",
    "    data = data.drop(columns=[\"Name\", \"Ticket\", \"PassengerId\"], errors='ignore')\n",
    "    return data\n"
   ]
  },
  {
   "cell_type": "code",
   "execution_count": 4,
   "id": "03c38e98-b986-415a-b6ad-debd34596c90",
   "metadata": {},
   "outputs": [
    {
     "name": "stdout",
     "output_type": "stream",
     "text": [
      "Feature Scaling Completed. All features are now scaled from -1 to 1!\n",
      "\n",
      "   Survived    Pclass       Sex       Age     SibSp     Parch      Fare  \\\n",
      "0 -0.755929  0.873482  0.755929  0.386231 -0.499470 -0.400248 -0.497413   \n",
      "1  1.322876  0.873482 -1.322876  1.371370  0.616992 -0.400248 -0.512278   \n",
      "2 -0.755929 -0.315819  0.755929  2.553537 -0.499470 -0.400248 -0.464100   \n",
      "3 -0.755929  0.873482  0.755929 -0.204852 -0.499470 -0.400248 -0.482475   \n",
      "4  1.322876  0.873482 -1.322876 -0.598908  0.616992  0.619896 -0.417492   \n",
      "\n",
      "   FamilySize  \n",
      "0   -0.553443  \n",
      "1    0.105643  \n",
      "2   -0.553443  \n",
      "3   -0.553443  \n",
      "4    0.764728  \n"
     ]
    }
   ],
   "source": [
    "from sklearn.preprocessing import StandardScaler\n",
    "titanic_file_path = \"titanic_dataset.csv\"\n",
    "df = pd.read_csv(titanic_file_path)\n",
    "df = clean_and_engineer_features(df)\n",
    "numeric_features = df.select_dtypes(include=[\"number\"])\n",
    "scaler = StandardScaler()\n",
    "df_scaled = pd.DataFrame(scaler.fit_transform(numeric_features), columns=numeric_features.columns)\n",
    "print(\"Feature Scaling Completed. All features are now scaled from -1 to 1!\\n\")\n",
    "print(df_scaled.head())\n"
   ]
  },
  {
   "cell_type": "code",
   "execution_count": null,
   "id": "a2498cf0-ef1c-4021-9e05-434b1d722431",
   "metadata": {},
   "outputs": [],
   "source": []
  }
 ],
 "metadata": {
  "kernelspec": {
   "display_name": "Python 3 (ipykernel)",
   "language": "python",
   "name": "python3"
  },
  "language_info": {
   "codemirror_mode": {
    "name": "ipython",
    "version": 3
   },
   "file_extension": ".py",
   "mimetype": "text/x-python",
   "name": "python",
   "nbconvert_exporter": "python",
   "pygments_lexer": "ipython3",
   "version": "3.12.7"
  }
 },
 "nbformat": 4,
 "nbformat_minor": 5
}
