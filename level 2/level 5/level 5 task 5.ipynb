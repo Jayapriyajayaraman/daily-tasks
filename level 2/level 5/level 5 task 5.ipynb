{
 "cells": [
  {
   "cell_type": "code",
   "execution_count": 1,
   "id": "ea6fa5b4-768a-47e0-b683-3724deb72afd",
   "metadata": {},
   "outputs": [
    {
     "name": "stdout",
     "output_type": "stream",
     "text": [
      "Defaulting to user installation because normal site-packages is not writeable\n",
      "Requirement already satisfied: pandas in c:\\programdata\\anaconda3\\lib\\site-packages (2.2.2)\n",
      "Requirement already satisfied: numpy in c:\\programdata\\anaconda3\\lib\\site-packages (1.26.4)\n",
      "Requirement already satisfied: requests in c:\\programdata\\anaconda3\\lib\\site-packages (2.32.3)\n",
      "Requirement already satisfied: statsmodels in c:\\programdata\\anaconda3\\lib\\site-packages (0.14.2)\n",
      "Requirement already satisfied: matplotlib in c:\\programdata\\anaconda3\\lib\\site-packages (3.9.2)\n",
      "Requirement already satisfied: schedule in c:\\users\\jaya priya\\appdata\\roaming\\python\\python312\\site-packages (1.2.2)\n",
      "Requirement already satisfied: python-dateutil>=2.8.2 in c:\\programdata\\anaconda3\\lib\\site-packages (from pandas) (2.9.0.post0)\n",
      "Requirement already satisfied: pytz>=2020.1 in c:\\programdata\\anaconda3\\lib\\site-packages (from pandas) (2024.1)\n",
      "Requirement already satisfied: tzdata>=2022.7 in c:\\programdata\\anaconda3\\lib\\site-packages (from pandas) (2023.3)\n",
      "Requirement already satisfied: charset-normalizer<4,>=2 in c:\\programdata\\anaconda3\\lib\\site-packages (from requests) (3.3.2)\n",
      "Requirement already satisfied: idna<4,>=2.5 in c:\\programdata\\anaconda3\\lib\\site-packages (from requests) (3.7)\n",
      "Requirement already satisfied: urllib3<3,>=1.21.1 in c:\\programdata\\anaconda3\\lib\\site-packages (from requests) (2.2.3)\n",
      "Requirement already satisfied: certifi>=2017.4.17 in c:\\programdata\\anaconda3\\lib\\site-packages (from requests) (2024.8.30)\n",
      "Requirement already satisfied: scipy!=1.9.2,>=1.8 in c:\\programdata\\anaconda3\\lib\\site-packages (from statsmodels) (1.13.1)\n",
      "Requirement already satisfied: patsy>=0.5.6 in c:\\programdata\\anaconda3\\lib\\site-packages (from statsmodels) (0.5.6)\n",
      "Requirement already satisfied: packaging>=21.3 in c:\\programdata\\anaconda3\\lib\\site-packages (from statsmodels) (24.1)\n",
      "Requirement already satisfied: contourpy>=1.0.1 in c:\\programdata\\anaconda3\\lib\\site-packages (from matplotlib) (1.2.0)\n",
      "Requirement already satisfied: cycler>=0.10 in c:\\programdata\\anaconda3\\lib\\site-packages (from matplotlib) (0.11.0)\n",
      "Requirement already satisfied: fonttools>=4.22.0 in c:\\programdata\\anaconda3\\lib\\site-packages (from matplotlib) (4.51.0)\n",
      "Requirement already satisfied: kiwisolver>=1.3.1 in c:\\programdata\\anaconda3\\lib\\site-packages (from matplotlib) (1.4.4)\n",
      "Requirement already satisfied: pillow>=8 in c:\\programdata\\anaconda3\\lib\\site-packages (from matplotlib) (10.4.0)\n",
      "Requirement already satisfied: pyparsing>=2.3.1 in c:\\programdata\\anaconda3\\lib\\site-packages (from matplotlib) (3.1.2)\n",
      "Requirement already satisfied: six in c:\\programdata\\anaconda3\\lib\\site-packages (from patsy>=0.5.6->statsmodels) (1.16.0)\n"
     ]
    }
   ],
   "source": [
    "!pip install pandas numpy requests statsmodels matplotlib schedule\n"
   ]
  },
  {
   "cell_type": "code",
   "execution_count": 2,
   "id": "ac0e7a12-c979-42fa-93be-4a9d345fc650",
   "metadata": {},
   "outputs": [],
   "source": [
    "import pandas as pd\n",
    "import numpy as np\n",
    "import requests\n",
    "import matplotlib.pyplot as plt\n",
    "import schedule\n",
    "import time\n",
    "from statsmodels.tsa.statespace.sarimax import SARIMAX\n",
    "from datetime import datetime, timedelta\n"
   ]
  },
  {
   "cell_type": "code",
   "execution_count": 3,
   "id": "201acc52-d38c-4e79-8e2f-ee936264b884",
   "metadata": {},
   "outputs": [],
   "source": [
    "API_KEY = \"7152afec4273f801d5f4015ceb174daf\"\n",
    "BASE_URL = \"http://api.marketstack.com/v1/eod\"\n",
    "\n",
    "def get_stock_data(symbol, start_date, end_date):\n",
    "    \"\"\"Fetch real-time stock prices.\"\"\"\n",
    "    params = {\n",
    "        \"access_key\": API_KEY,\n",
    "        \"symbols\": symbol,\n",
    "        \"date_from\": start_date,\n",
    "        \"date_to\": end_date,\n",
    "    }\n",
    "    response = requests.get(BASE_URL, params=params)\n",
    "    data = response.json()\n",
    "    \n",
    "    if \"data\" in data:\n",
    "        df = pd.DataFrame(data[\"data\"])\n",
    "        df[\"date\"] = pd.to_datetime(df[\"date\"])\n",
    "        df = df[[\"date\", \"close\"]].rename(columns={\"date\": \"Date\", \"close\": \"Close_Price\"})\n",
    "        df.sort_values(\"Date\", inplace=True)\n",
    "        return df\n",
    "    else:\n",
    "        print(f\"Error fetching data for {symbol}: {data}\")\n",
    "        return pd.DataFrame()\n"
   ]
  },
  {
   "cell_type": "code",
   "execution_count": 4,
   "id": "0e1065a3-2fe8-4b53-a32c-5e062a21dd4e",
   "metadata": {},
   "outputs": [],
   "source": [
    "def forecast_stock(symbol):\n",
    "    \"\"\"Train SARIMA model & forecast next 5 days.\"\"\"\n",
    "    print(f\"🔄 Fetching live data for {symbol}...\")\n",
    "    end_date = datetime.today().strftime(\"%Y-%m-%d\")\n",
    "    start_date = (datetime.today() - timedelta(days=90)).strftime(\"%Y-%m-%d\")\n",
    "    df = get_stock_data(symbol, start_date, end_date)\n",
    "    if df.empty:\n",
    "        print(f\"❌ No data found for {symbol}. Skipping forecast.\")\n",
    "        return\n",
    "    df.set_index(\"Date\", inplace=True)\n",
    "    df = df.asfreq(\"D\")  \n",
    "    df = df.ffill() \n",
    "    model = SARIMAX(df[\"Close_Price\"], order=(1,1,1), seasonal_order=(1,1,1,5))\n",
    "    model_fit = model.fit()\n",
    "    future_steps = 5\n",
    "    forecast = model_fit.forecast(steps=future_steps)\n",
    "    forecast_dates = pd.date_range(df.index[-1] + timedelta(days=1), periods=future_steps, freq=\"D\")\n",
    "    forecast_df = pd.DataFrame({\"Date\": forecast_dates, \"Predicted_Price\": forecast.values})\n",
    "    print(f\"✅ Forecast for {symbol}:\")\n",
    "    print(forecast_df)\n",
    "    return forecast_df\n"
   ]
  },
  {
   "cell_type": "code",
   "execution_count": 5,
   "id": "6f88e216-96c6-4aff-8d5f-14bc9821a070",
   "metadata": {},
   "outputs": [
    {
     "name": "stdout",
     "output_type": "stream",
     "text": [
      "🔄 Fetching live data for AAPL...\n",
      "✅ Forecast for AAPL:\n",
      "                       Date  Predicted_Price\n",
      "0 2025-03-19 00:00:00+00:00       213.633581\n",
      "1 2025-03-20 00:00:00+00:00       213.203527\n",
      "2 2025-03-21 00:00:00+00:00       213.159893\n",
      "3 2025-03-22 00:00:00+00:00       212.298893\n",
      "4 2025-03-23 00:00:00+00:00       211.568000\n",
      "🔄 Fetching live data for GOOGL...\n",
      "✅ Forecast for GOOGL:\n",
      "                       Date  Predicted_Price\n",
      "0 2025-03-19 00:00:00+00:00       160.807000\n",
      "1 2025-03-20 00:00:00+00:00       159.873984\n",
      "2 2025-03-21 00:00:00+00:00       160.366656\n",
      "3 2025-03-22 00:00:00+00:00       159.931208\n",
      "4 2025-03-23 00:00:00+00:00       158.268887\n",
      "🔄 Fetching live data for MSFT...\n",
      "✅ Forecast for MSFT:\n",
      "                       Date  Predicted_Price\n",
      "0 2025-03-19 00:00:00+00:00       383.760320\n",
      "1 2025-03-20 00:00:00+00:00       382.700050\n",
      "2 2025-03-21 00:00:00+00:00       380.999719\n",
      "3 2025-03-22 00:00:00+00:00       380.364092\n",
      "4 2025-03-23 00:00:00+00:00       379.901237\n",
      "🔄 Fetching live data for TSLA...\n",
      "✅ Forecast for TSLA:\n",
      "                       Date  Predicted_Price\n",
      "0 2025-03-19 00:00:00+00:00       227.532385\n",
      "1 2025-03-20 00:00:00+00:00       223.209007\n",
      "2 2025-03-21 00:00:00+00:00       224.193870\n",
      "3 2025-03-22 00:00:00+00:00       219.557893\n",
      "4 2025-03-23 00:00:00+00:00       212.465084\n",
      "🔄 Fetching live data for AMZN...\n",
      "✅ Forecast for AMZN:\n",
      "                       Date  Predicted_Price\n",
      "0 2025-03-19 00:00:00+00:00       192.022942\n",
      "1 2025-03-20 00:00:00+00:00       192.016822\n",
      "2 2025-03-21 00:00:00+00:00       190.861500\n",
      "3 2025-03-22 00:00:00+00:00       190.756987\n",
      "4 2025-03-23 00:00:00+00:00       188.438105\n"
     ]
    }
   ],
   "source": [
    "STOCKS = [\"AAPL\", \"GOOGL\", \"MSFT\", \"TSLA\", \"AMZN\"]  \n",
    "for stock in STOCKS:\n",
    "    forecast_stock(stock)  \n"
   ]
  },
  {
   "cell_type": "code",
   "execution_count": null,
   "id": "83a4e2ad-a4cb-4ceb-b132-20cba3531a33",
   "metadata": {},
   "outputs": [],
   "source": []
  }
 ],
 "metadata": {
  "kernelspec": {
   "display_name": "Python 3 (ipykernel)",
   "language": "python",
   "name": "python3"
  },
  "language_info": {
   "codemirror_mode": {
    "name": "ipython",
    "version": 3
   },
   "file_extension": ".py",
   "mimetype": "text/x-python",
   "name": "python",
   "nbconvert_exporter": "python",
   "pygments_lexer": "ipython3",
   "version": "3.12.7"
  }
 },
 "nbformat": 4,
 "nbformat_minor": 5
}
