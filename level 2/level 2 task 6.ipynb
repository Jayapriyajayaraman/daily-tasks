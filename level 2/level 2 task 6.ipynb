{
 "cells": [
  {
   "cell_type": "code",
   "execution_count": 2,
   "id": "649609fa-82a8-4141-9815-9b26f31b9d5b",
   "metadata": {},
   "outputs": [],
   "source": [
    "import pandas as pd\n",
    "import re\n",
    "def clean_and_engineer_features(data):\n",
    "    data = data.copy() \n",
    "    data[\"Age\"] = data[\"Age\"].fillna(data[\"Age\"].median())\n",
    "    data[\"Embarked\"] = data[\"Embarked\"].fillna(data[\"Embarked\"].mode()[0])\n",
    "    data[\"Fare\"] = data[\"Fare\"].fillna(data[\"Fare\"].median())\n",
    "    data = data.drop(columns=[\"Cabin\"], errors='ignore')\n",
    "    data[\"Sex\"] = data[\"Sex\"].map({\"male\": 1, \"female\": 0})\n",
    "    data = pd.get_dummies(data, columns=[\"Embarked\"], drop_first=True)\n",
    "    data[\"FamilySize\"] = data[\"SibSp\"] + data[\"Parch\"] + 1\n",
    "    data[\"Title\"] = data[\"Name\"].apply(lambda x: re.search(r' ([A-Za-z]+)\\.', x).group(1) if re.search(r' ([A-Za-z]+)\\.', x) else \"Other\")\n",
    "    common_titles = [\"Mr\", \"Miss\", \"Mrs\", \"Master\"]\n",
    "    data[\"Title\"] = data[\"Title\"].apply(lambda x: x if x in common_titles else \"Other\")\n",
    "    data = data.drop(columns=[\"Name\", \"Ticket\", \"PassengerId\"], errors='ignore')\n",
    "    return data\n"
   ]
  },
  {
   "cell_type": "code",
   "execution_count": 3,
   "id": "61974d23-4596-42d4-9343-b85e46bef244",
   "metadata": {},
   "outputs": [
    {
     "name": "stdout",
     "output_type": "stream",
     "text": [
      "Chi-Square Test Results:\n",
      "Chi-Square Statistic: 413.6897\n",
      "P-value: 0.0000\n",
      "Conclusion: Gender is a statistically significant feature.\n"
     ]
    }
   ],
   "source": [
    "import scipy.stats as stats\n",
    "titanic_file_path = \"titanic_dataset.csv\"\n",
    "df = pd.read_csv(titanic_file_path)\n",
    "df = clean_and_engineer_features(df)\n",
    "table = pd.crosstab(df['Sex'], df['Survived'])  \n",
    "chi2, p_value, dof, expected = stats.chi2_contingency(table)\n",
    "print(\"Chi-Square Test Results:\")\n",
    "print(f\"Chi-Square Statistic: {chi2:.4f}\")\n",
    "print(f\"P-value: {p_value:.4f}\")\n",
    "alpha = 0.05 \n",
    "if p_value < alpha:\n",
    "    print(\"Conclusion: Gender is a statistically significant feature.\")\n",
    "else:\n",
    "    print(\"Conclusion: Gender is NOT a statistically significant feature.\")\n"
   ]
  },
  {
   "cell_type": "code",
   "execution_count": null,
   "id": "1ac1d466-3e73-4bc3-92b7-c33c1fe1efdf",
   "metadata": {},
   "outputs": [],
   "source": []
  }
 ],
 "metadata": {
  "kernelspec": {
   "display_name": "Python 3 (ipykernel)",
   "language": "python",
   "name": "python3"
  },
  "language_info": {
   "codemirror_mode": {
    "name": "ipython",
    "version": 3
   },
   "file_extension": ".py",
   "mimetype": "text/x-python",
   "name": "python",
   "nbconvert_exporter": "python",
   "pygments_lexer": "ipython3",
   "version": "3.12.7"
  }
 },
 "nbformat": 4,
 "nbformat_minor": 5
}
