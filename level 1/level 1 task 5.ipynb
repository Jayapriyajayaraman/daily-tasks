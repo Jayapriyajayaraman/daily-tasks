{
 "cells": [
  {
   "cell_type": "code",
   "execution_count": 7,
   "id": "3d28a2e4-5d48-471f-ac34-d8546b97d2c7",
   "metadata": {},
   "outputs": [
    {
     "name": "stdout",
     "output_type": "stream",
     "text": [
      "Simple Random Sample:\n",
      "     Category     Value\n",
      "521        B  1.589898\n",
      "737        B -1.490246\n",
      "740        D  0.589950\n",
      "660        C  1.107903\n",
      "411        B -0.050988\n",
      "\n",
      "Systematic Sample:\n",
      "    Category     Value\n",
      "0         D  1.293825\n",
      "10        C -0.901952\n",
      "20        A -1.336721\n",
      "30        A -0.317703\n",
      "40        C  0.269009\n",
      "\n",
      "Stratified Sample:\n",
      "       Value\n",
      "0  1.027021\n",
      "1 -0.367526\n",
      "2 -0.370594\n",
      "3 -0.249620\n",
      "4 -0.273152\n",
      "\n",
      "Cluster Sample from Cluster A:\n",
      "    Category     Value\n",
      "12        A  1.591340\n",
      "14        A  0.092710\n",
      "18        A -1.987637\n",
      "19        A -0.603829\n",
      "20        A -1.336721\n"
     ]
    }
   ],
   "source": [
    "import numpy as np\n",
    "import pandas as pd\n",
    "from sklearn.model_selection import train_test_split\n",
    "data = pd.DataFrame({\n",
    "    \"Category\": np.random.choice([\"A\", \"B\", \"C\", \"D\"], size=1000),\n",
    "    \"Value\": np.random.randn(1000)\n",
    "})\n",
    "simple_random_sample = data.sample(n=100, random_state=42)\n",
    "interval = len(data) // 100\n",
    "systematic_sample = data.iloc[::interval]\n",
    "stratified_sample = data.drop(columns=[\"Category\"]).groupby(data[\"Category\"], group_keys=False).apply(lambda x: x.sample(frac=0.1, random_state=42)).reset_index(drop=True)\n",
    "clusters = data.groupby(\"Category\")\n",
    "random_cluster = np.random.choice(data[\"Category\"].unique())\n",
    "cluster_sample = clusters.get_group(random_cluster)\n",
    "print(\"Simple Random Sample:\\n\", simple_random_sample.head())\n",
    "print(\"\\nSystematic Sample:\\n\", systematic_sample.head())\n",
    "print(\"\\nStratified Sample:\\n\", stratified_sample.head())\n",
    "print(f\"\\nCluster Sample from Cluster {random_cluster}:\\n\", cluster_sample.head())"
   ]
  },
  {
   "cell_type": "code",
   "execution_count": null,
   "id": "d97cdabc-af2e-4bcc-9354-b72557a4120d",
   "metadata": {},
   "outputs": [],
   "source": []
  }
 ],
 "metadata": {
  "kernelspec": {
   "display_name": "Python 3 (ipykernel)",
   "language": "python",
   "name": "python3"
  },
  "language_info": {
   "codemirror_mode": {
    "name": "ipython",
    "version": 3
   },
   "file_extension": ".py",
   "mimetype": "text/x-python",
   "name": "python",
   "nbconvert_exporter": "python",
   "pygments_lexer": "ipython3",
   "version": "3.12.7"
  }
 },
 "nbformat": 4,
 "nbformat_minor": 5
}
