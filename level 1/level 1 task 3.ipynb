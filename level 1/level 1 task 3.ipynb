{
 "cells": [
  {
   "cell_type": "code",
   "execution_count": 1,
   "id": "b57701f2-f6d9-4b82-a50e-52ec1d7e65ab",
   "metadata": {},
   "outputs": [
    {
     "name": "stdout",
     "output_type": "stream",
     "text": [
      "               Metric     Value\n",
      "0                Mean -0.013873\n",
      "1            Variance  0.993873\n",
      "2  Standard Deviation  0.996932\n",
      "3            Skewness  0.003740\n",
      "4            Kurtosis -0.029115\n"
     ]
    }
   ],
   "source": [
    "import numpy as np\n",
    "import pandas as pd\n",
    "import matplotlib.pyplot as plt\n",
    "import seaborn as sns\n",
    "from scipy.stats import binom, poisson, norm, lognorm, skew, kurtosis\n",
    "data = np.random.normal(0, 1, 10000)  \n",
    "df = pd.DataFrame(data, columns=[\"value\"])\n",
    "mean_value = df[\"value\"].mean()\n",
    "variance_value = df[\"value\"].var()\n",
    "std_dev_value = df[\"value\"].std()\n",
    "skewness_value = skew(df[\"value\"])\n",
    "kurtosis_value = kurtosis(df[\"value\"])\n",
    "summary_stats = pd.DataFrame({\n",
    "    \"Metric\": [\"Mean\", \"Variance\", \"Standard Deviation\", \"Skewness\", \"Kurtosis\"],\n",
    "    \"Value\": [mean_value, variance_value, std_dev_value, skewness_value, kurtosis_value]\n",
    "})\n",
    "\n",
    "print(summary_stats)\n"
   ]
  },
  {
   "cell_type": "code",
   "execution_count": null,
   "id": "1f3dada6-706a-4049-a446-00f2aaafa6e1",
   "metadata": {},
   "outputs": [],
   "source": []
  }
 ],
 "metadata": {
  "kernelspec": {
   "display_name": "Python 3 (ipykernel)",
   "language": "python",
   "name": "python3"
  },
  "language_info": {
   "codemirror_mode": {
    "name": "ipython",
    "version": 3
   },
   "file_extension": ".py",
   "mimetype": "text/x-python",
   "name": "python",
   "nbconvert_exporter": "python",
   "pygments_lexer": "ipython3",
   "version": "3.12.7"
  }
 },
 "nbformat": 4,
 "nbformat_minor": 5
}
