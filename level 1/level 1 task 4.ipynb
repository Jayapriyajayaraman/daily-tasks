{
 "cells": [
  {
   "cell_type": "code",
   "execution_count": 1,
   "id": "5dc685c1-b001-4196-be7d-1cd20aca2d7b",
   "metadata": {},
   "outputs": [
    {
     "name": "stdout",
     "output_type": "stream",
     "text": [
      "                    Metric     Value\n",
      "0                     Bias -0.000108\n",
      "1       Mean Squared Error  0.008251\n",
      "2  Root Mean Squared Error  0.090835\n",
      "3           Standard Error  0.009084\n"
     ]
    }
   ],
   "source": [
    "import numpy as np\n",
    "import pandas as pd\n",
    "np.random.seed(42)\n",
    "actual = np.random.rand(100)\n",
    "predicted = actual + np.random.normal(0, 0.1, 100)  # Adding some noise\n",
    "bias = np.mean(predicted - actual)\n",
    "mse = np.mean((predicted - actual) ** 2)\n",
    "rmse = np.sqrt(mse)\n",
    "standard_error = np.std(predicted - actual) / np.sqrt(len(actual))\n",
    "error_metrics = pd.DataFrame({\n",
    "    \"Metric\": [\"Bias\", \"Mean Squared Error\", \"Root Mean Squared Error\", \"Standard Error\"],\n",
    "    \"Value\": [bias, mse, rmse, standard_error]\n",
    "})\n",
    "print(error_metrics)"
   ]
  },
  {
   "cell_type": "code",
   "execution_count": null,
   "id": "0802ac4e-cbc3-4c7d-b6d6-564390e8bdeb",
   "metadata": {},
   "outputs": [],
   "source": []
  }
 ],
 "metadata": {
  "kernelspec": {
   "display_name": "Python 3 (ipykernel)",
   "language": "python",
   "name": "python3"
  },
  "language_info": {
   "codemirror_mode": {
    "name": "ipython",
    "version": 3
   },
   "file_extension": ".py",
   "mimetype": "text/x-python",
   "name": "python",
   "nbconvert_exporter": "python",
   "pygments_lexer": "ipython3",
   "version": "3.12.7"
  }
 },
 "nbformat": 4,
 "nbformat_minor": 5
}
