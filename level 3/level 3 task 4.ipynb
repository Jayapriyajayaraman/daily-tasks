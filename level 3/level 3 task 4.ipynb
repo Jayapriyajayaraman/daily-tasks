{
 "cells": [
  {
   "cell_type": "code",
   "execution_count": 1,
   "id": "ab6a9973-1566-4e49-9a68-4f49ef4cde74",
   "metadata": {},
   "outputs": [
    {
     "name": "stdout",
     "output_type": "stream",
     "text": [
      "t-statistic: 3.3619\n",
      "p-value: 0.0015\n"
     ]
    }
   ],
   "source": [
    "import numpy as np\n",
    "from scipy import stats\n",
    "np.random.seed(0)\n",
    "sample = np.random.normal(loc=70, scale=5, size=50)\n",
    "population_mean = 68\n",
    "t_stat, p_value = stats.ttest_1samp(sample, population_mean)\n",
    "print(f\"t-statistic: {t_stat:.4f}\")\n",
    "print(f\"p-value: {p_value:.4f}\")\n"
   ]
  },
  {
   "cell_type": "code",
   "execution_count": 2,
   "id": "62f3a5f7-d3aa-40b4-8f49-b9abe7240057",
   "metadata": {},
   "outputs": [
    {
     "name": "stdout",
     "output_type": "stream",
     "text": [
      "t-statistic: 1.0233\n",
      "p-value: 0.3104\n"
     ]
    }
   ],
   "source": [
    "np.random.seed(0)\n",
    "method1 = np.random.normal(loc=75, scale=10, size=30)\n",
    "method2 = np.random.normal(loc=80, scale=12, size=30)\n",
    "t_stat, p_value = stats.ttest_ind(method1, method2)\n",
    "print(f\"t-statistic: {t_stat:.4f}\")\n",
    "print(f\"p-value: {p_value:.4f}\")\n"
   ]
  },
  {
   "cell_type": "code",
   "execution_count": 3,
   "id": "4f2efde1-3128-455d-aa08-69cf297d23dc",
   "metadata": {},
   "outputs": [
    {
     "name": "stdout",
     "output_type": "stream",
     "text": [
      "t-statistic: -4.2565\n",
      "p-value: 0.0002\n"
     ]
    }
   ],
   "source": [
    "np.random.seed(0)\n",
    "before = np.random.normal(loc=70, scale=10, size=30)\n",
    "after = before + np.random.normal(loc=5, scale=5, size=30)\n",
    "t_stat, p_value = stats.ttest_rel(before, after)\n",
    "print(f\"t-statistic: {t_stat:.4f}\")\n",
    "print(f\"p-value: {p_value:.4f}\")\n"
   ]
  },
  {
   "cell_type": "code",
   "execution_count": 4,
   "id": "4c643889-2cc2-4e4a-b856-7b4b4fbbef83",
   "metadata": {},
   "outputs": [
    {
     "name": "stdout",
     "output_type": "stream",
     "text": [
      "                sum_sq    df         F    PR(>F)\n",
      "C(method)   132.448321   2.0  0.667164  0.515767\n",
      "Residual   8635.806619  87.0       NaN       NaN\n"
     ]
    }
   ],
   "source": [
    "import pandas as pd\n",
    "import statsmodels.api as sm\n",
    "from statsmodels.formula.api import ols\n",
    "np.random.seed(0)\n",
    "method1 = np.random.normal(loc=75, scale=10, size=30)\n",
    "method2 = np.random.normal(loc=80, scale=10, size=30)\n",
    "method3 = np.random.normal(loc=78, scale=10, size=30)\n",
    "df = pd.DataFrame({\n",
    "    'score': np.concatenate([method1, method2, method3]),\n",
    "    'method': ['Method1']*30 + ['Method2']*30 + ['Method3']*30\n",
    "})\n",
    "model = ols('score ~ C(method)', data=df).fit()\n",
    "anova_table = sm.stats.anova_lm(model, typ=2)\n",
    "\n",
    "print(anova_table)\n"
   ]
  },
  {
   "cell_type": "code",
   "execution_count": 5,
   "id": "cb4f6f12-5325-4dad-9dfe-df87d92cedb4",
   "metadata": {},
   "outputs": [
    {
     "name": "stdout",
     "output_type": "stream",
     "text": [
      "Chi-square statistic: 15.0417\n",
      "p-value: 0.0001\n"
     ]
    }
   ],
   "source": [
    "observed = np.array([[30, 10], [20, 40]])\n",
    "chi2, p, dof, expected = stats.chi2_contingency(observed)\n",
    "print(f\"Chi-square statistic: {chi2:.4f}\")\n",
    "print(f\"p-value: {p:.4f}\")\n"
   ]
  },
  {
   "cell_type": "code",
   "execution_count": null,
   "id": "b054d689-abba-4621-9cc7-69eb886256c0",
   "metadata": {},
   "outputs": [],
   "source": []
  }
 ],
 "metadata": {
  "kernelspec": {
   "display_name": "Python 3 (ipykernel)",
   "language": "python",
   "name": "python3"
  },
  "language_info": {
   "codemirror_mode": {
    "name": "ipython",
    "version": 3
   },
   "file_extension": ".py",
   "mimetype": "text/x-python",
   "name": "python",
   "nbconvert_exporter": "python",
   "pygments_lexer": "ipython3",
   "version": "3.12.7"
  }
 },
 "nbformat": 4,
 "nbformat_minor": 5
}
